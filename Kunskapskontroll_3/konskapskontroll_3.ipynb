{
 "cells": [
  {
   "cell_type": "markdown",
   "metadata": {},
   "source": [
    "Första steget är att ladda datasetet och få en översikt över datan."
   ]
  },
  {
   "cell_type": "code",
   "execution_count": null,
   "metadata": {},
   "outputs": [],
   "source": [
    "import pandas as pd\n",
    "\n",
    "# Ladda datasetet\n",
    "housing = pd.read_csv('housing.csv')\n",
    "\n",
    "# Visa de första 5 raderna för att få en översikt\n",
    "housing.head()\n"
   ]
  },
  {
   "cell_type": "markdown",
   "metadata": {},
   "source": [
    "Här undersöker vi saknade värden, datatyper och allmän struktur i datasetet."
   ]
  },
  {
   "cell_type": "code",
   "execution_count": null,
   "metadata": {},
   "outputs": [],
   "source": [
    "# Kontrollera datatyper och saknade värden\n",
    "housing.info()\n",
    "\n",
    "# Kontrollera om det finns några saknade värden\n",
    "housing.isnull().sum()\n"
   ]
  },
  {
   "cell_type": "markdown",
   "metadata": {},
   "source": [
    "För att få en överblick över variablernas fördelning, kan vi använda describe() för att få en statistisk sammanfattning av datan."
   ]
  },
  {
   "cell_type": "code",
   "execution_count": null,
   "metadata": {},
   "outputs": [],
   "source": [
    "# Statistisk sammanfattning\n",
    "housing.describe()"
   ]
  },
  {
   "cell_type": "markdown",
   "metadata": {},
   "source": [
    "Histogram för att titta på fördelningen av huspriser"
   ]
  },
  {
   "cell_type": "code",
   "execution_count": null,
   "metadata": {},
   "outputs": [],
   "source": [
    "import matplotlib.pyplot as plt\n",
    "\n",
    "# Histogram för pris\n",
    "plt.figure(figsize=(10, 6))\n",
    "plt.hist(housing['price'], bins=30, edgecolor='black')\n",
    "plt.title('Fördelning av Huspriser')\n",
    "plt.xlabel('Pris')\n",
    "plt.ylabel('Frekvens')\n",
    "plt.show()\n"
   ]
  },
  {
   "cell_type": "markdown",
   "metadata": {},
   "source": [
    "Boxplot för att visa fördelningen av huspriser i olika regioner\n",
    "Om datasetet har en kolumn för region eller städer kan en boxplot visa fördelningen av huspriser i olika områden."
   ]
  },
  {
   "cell_type": "code",
   "execution_count": null,
   "metadata": {},
   "outputs": [],
   "source": [
    "import seaborn as sns\n",
    "\n",
    "# Boxplot för huspriser per region (om det finns en 'region' kolumn)\n",
    "plt.figure(figsize=(12, 8))\n",
    "sns.boxplot(x='region', y='price', data=housing)\n",
    "plt.title('Huspriser per Region')\n",
    "plt.xlabel('Region')\n",
    "plt.ylabel('Pris')\n",
    "plt.xticks(rotation=90)\n",
    "plt.show()\n"
   ]
  },
  {
   "cell_type": "markdown",
   "metadata": {},
   "source": [
    "Scatterplot för att undersöka relationen mellan antal rum och huspris"
   ]
  },
  {
   "cell_type": "code",
   "execution_count": null,
   "metadata": {},
   "outputs": [],
   "source": [
    "# Scatterplot för antal rum vs pris\n",
    "plt.figure(figsize=(10, 6))\n",
    "sns.scatterplot(x='rooms', y='price', data=housing)\n",
    "plt.title('Antal Rum vs Huspris')\n",
    "plt.xlabel('Antal Rum')\n",
    "plt.ylabel('Pris')\n",
    "plt.show()\n"
   ]
  },
  {
   "cell_type": "markdown",
   "metadata": {},
   "source": [
    "För att undersöka om det finns några starka samband mellan variabler kan vi beräkna korrelationen mellan numeriska kolumner."
   ]
  },
  {
   "cell_type": "code",
   "execution_count": null,
   "metadata": {},
   "outputs": [],
   "source": [
    "# Korrelation mellan variabler\n",
    "correlation_matrix = housing.corr()\n",
    "\n",
    "# Värmebild för att visa korrelationen\n",
    "plt.figure(figsize=(12, 8))\n",
    "sns.heatmap(correlation_matrix, annot=True, cmap='coolwarm', fmt='.2f')\n",
    "plt.title('Korrelation mellan variabler')\n",
    "plt.show()\n"
   ]
  },
  {
   "cell_type": "markdown",
   "metadata": {},
   "source": [
    "För att identifiera de dyrare och billigare husen kan vi helt enkelt sortera datasetet baserat på pris."
   ]
  },
  {
   "cell_type": "code",
   "execution_count": null,
   "metadata": {},
   "outputs": [],
   "source": [
    "# Sortera för att få de dyraste husen\n",
    "top_expensive_houses = housing.sort_values(by='price', ascending=False).head(10)\n",
    "print(top_expensive_houses[['price', 'location', 'rooms', 'area']])\n",
    "\n",
    "# Sortera för att få de billigaste husen\n",
    "top_cheap_houses = housing.sort_values(by='price', ascending=True).head(10)\n",
    "print(top_cheap_houses[['price', 'location', 'rooms', 'area']])\n"
   ]
  },
  {
   "cell_type": "markdown",
   "metadata": {},
   "source": [
    "Efter att ha utfört den explorativa analysen, kan vi dra några slutsatser om de dyrare eller billigare husen. Exempelvis:\n",
    "\n",
    "Dyra hus tenderar att ha fler rum, större yta eller finare läge.\n",
    "Billigare hus kan ha färre rum eller ligga längre bort från städer eller viktiga bekvämligheter."
   ]
  }
 ],
 "metadata": {
  "language_info": {
   "name": "python"
  }
 },
 "nbformat": 4,
 "nbformat_minor": 2
}
